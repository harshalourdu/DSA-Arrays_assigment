{
 "cells": [
  {
   "cell_type": "markdown",
   "id": "f03d3eba-e9a6-40e3-bb4b-c9e2f45b240d",
   "metadata": {},
   "source": [
    "# DSA - ARRAYS"
   ]
  },
  {
   "cell_type": "code",
   "execution_count": 3,
   "id": "15f266ea-a7f5-483a-b7ab-b5db108bc5ad",
   "metadata": {},
   "outputs": [
    {
     "name": "stdout",
     "output_type": "stream",
     "text": [
      "Yes"
     ]
    }
   ],
   "source": [
    "# 1. Given an array, check if it contains any duplicates or not. arr = [1, 2, 4, 2, 5, 9] Output = True\n",
    "\n",
    "def main():\n",
    "    arr = [1, 2, 4, 2, 5, 9]\n",
    "    n = len(arr)\n",
    "    if Globals.checkDuplicates(arr, n, 3):\n",
    "        print(\"Yes\", end = '')\n",
    "    else:\n",
    "        print(\"No\", end = '')\n",
    "\n",
    "\n",
    "class Globals:\n",
    "    @staticmethod\n",
    "    def checkDuplicates(arr, n, k):\n",
    "        for i in range(0, n):\n",
    "            window = k\n",
    "            j = i+1\n",
    "            while window>0 and j<n:\n",
    "                if arr[i] == arr[j]:\n",
    "                    return True\n",
    "                window -= 1\n",
    "                j += 1\n",
    "        return False\n",
    "if __name__ == \"__main__\":\n",
    "    main()"
   ]
  },
  {
   "cell_type": "code",
   "execution_count": 5,
   "id": "bdfcf8bc-b4f7-477f-b0b5-8c427855d12b",
   "metadata": {},
   "outputs": [
    {
     "name": "stdout",
     "output_type": "stream",
     "text": [
      "5 6 7 1 2 3 4 \n",
      "\n"
     ]
    }
   ],
   "source": [
    "# 2. Given an array and an integer k, rotate the array to the right by k steps. arr = [1, 2, 3, 4, 5, 6, 7] k = 3\n",
    "# Output = [5, 6, 7, 1, 2, 3, 4]\n",
    "\n",
    "def RightRotate(a, n, k):\n",
    " \n",
    "    # If rotation is greater \n",
    "    # than size of array\n",
    "    k = k % n;\n",
    " \n",
    "    for i in range(0, n):\n",
    " \n",
    "        if(i < k):\n",
    " \n",
    "            # Printing rightmost \n",
    "            # kth elements\n",
    "            print(a[n + i - k], end = \" \");\n",
    " \n",
    "        else:\n",
    " \n",
    "            # Prints array after\n",
    "            # 'k' elements\n",
    "            print(a[i - k], end = \" \");\n",
    " \n",
    "    print(\"\\n\");\n",
    "    \n",
    "Array = [ 1, 2, 3, 4, 5, 6, 7 ];\n",
    "N = len(Array);\n",
    "K = 3\n",
    "     \n",
    "RightRotate(Array, N, K);\n",
    "\n"
   ]
  },
  {
   "cell_type": "code",
   "execution_count": 13,
   "id": "f9fa595c-c5f5-4d57-9e9e-3ebf080c7394",
   "metadata": {},
   "outputs": [
    {
     "name": "stdout",
     "output_type": "stream",
     "text": [
      "12 9 7 5 4 2 "
     ]
    }
   ],
   "source": [
    "# 3. Reverse the given array in-place, means without using any extra data structure.arr = [2, 4, 5, 7, 9, 12]\n",
    "#Output = [12, 9, 7, 5, 4, 2]\n",
    "\n",
    "def reverse(arr, n, k):\n",
    "    i = 0\n",
    "     \n",
    "    while(i<n):\n",
    "     \n",
    "        left = i \n",
    " \n",
    "        # To handle case when k is not\n",
    "        # multiple of n\n",
    "        right = min(i + k - 1, n - 1) \n",
    " \n",
    "        # Reverse the sub-array [left, right]\n",
    "        while (left < right):\n",
    "             \n",
    "            arr[left], arr[right] = arr[right], arr[left]\n",
    "            left+= 1;\n",
    "            right-=1\n",
    "        i+= k\n",
    "\n",
    "arr = [2, 4, 5, 7, 9, 12] \n",
    " \n",
    "k = 9\n",
    "n = len(arr) \n",
    "reverse(arr, n, k)\n",
    " \n",
    "for i in range(0, n):\n",
    "        print(arr[i], end =\" \")\n",
    "\n"
   ]
  },
  {
   "cell_type": "code",
   "execution_count": 14,
   "id": "dde04e3f-1dc5-4da9-9dc6-462076a81a9a",
   "metadata": {},
   "outputs": [
    {
     "name": "stdout",
     "output_type": "stream",
     "text": [
      "Largest in given array  20\n"
     ]
    }
   ],
   "source": [
    "# 4. Given an array of integers, find the maximum element in an arrayn arr = [10, 5, 20, 8, 15]\n",
    "#Output = 20\n",
    "\n",
    "def largest(arr, n):\n",
    " \n",
    "    # Initialize maximum element\n",
    "    max = arr[0]\n",
    " \n",
    "    # Traverse array elements from second\n",
    "    # and compare every element with\n",
    "    # current max\n",
    "    for i in range(1, n):\n",
    "        if arr[i] > max:\n",
    "            max = arr[i]\n",
    "    return max\n",
    "\n",
    "arr = [10, 5, 20, 8, 15]\n",
    "n = len(arr)\n",
    "Ans = largest(arr, n)\n",
    "print(\"Largest in given array \", Ans)\n",
    "\n"
   ]
  },
  {
   "cell_type": "code",
   "execution_count": 15,
   "id": "6479463e-a408-4c1b-af91-3c546b79fb45",
   "metadata": {},
   "outputs": [
    {
     "name": "stdout",
     "output_type": "stream",
     "text": [
      "1 2 3 4 5 "
     ]
    }
   ],
   "source": [
    "# 5. Given a sorted array, remove the duplicate element without using any extra data structure. arr = [1, 1, 2, 2, 2, 3, 3, 4, 4, 4, 5, 5]\n",
    "#Output = [1, 2, 3, 4, 5]\n",
    "\n",
    "def removeDuplicates(arr, n):\n",
    " \n",
    "    # Return, if array is empty or contains\n",
    "    # a single element\n",
    "    if n == 0 or n == 1:\n",
    "        return n\n",
    " \n",
    "    temp = list(range(n))\n",
    " \n",
    "    # Start traversing elements\n",
    "    j = 0\n",
    "    for i in range(0, n-1):\n",
    " \n",
    "        # If current element is not equal to next\n",
    "        # then store that current element\n",
    "        if arr[i] != arr[i+1]:\n",
    "            temp[j] = arr[i]\n",
    "            j += 1\n",
    " \n",
    "    # Store the last element as whether it is unique\n",
    "    # or repeated, it isn't stored previously\n",
    "    temp[j] = arr[n-1]\n",
    "    j += 1\n",
    " \n",
    "    # Modify original array\n",
    "    for i in range(0, j):\n",
    "        arr[i] = temp[i]\n",
    " \n",
    "    return j\n",
    " \n",
    "\n",
    "if __name__ == '__main__':\n",
    "    arr = [1, 1, 2, 2, 2, 3, 3, 4, 4, 4, 5, 5]\n",
    "    n = len(arr)\n",
    " \n",
    "    # removeDuplicates() returns new size of array.\n",
    "    n = removeDuplicates(arr, n)\n",
    " \n",
    "    # Print updated array\n",
    "    for i in range(n):\n",
    "        print(\"%d\" % (arr[i]), end=\" \")"
   ]
  },
  {
   "cell_type": "code",
   "execution_count": null,
   "id": "1f2751d7-e0a3-4899-bf79-54d8f74d61fc",
   "metadata": {},
   "outputs": [],
   "source": []
  }
 ],
 "metadata": {
  "kernelspec": {
   "display_name": "Python 3 (ipykernel)",
   "language": "python",
   "name": "python3"
  },
  "language_info": {
   "codemirror_mode": {
    "name": "ipython",
    "version": 3
   },
   "file_extension": ".py",
   "mimetype": "text/x-python",
   "name": "python",
   "nbconvert_exporter": "python",
   "pygments_lexer": "ipython3",
   "version": "3.10.8"
  }
 },
 "nbformat": 4,
 "nbformat_minor": 5
}
